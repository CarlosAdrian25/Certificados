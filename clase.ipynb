{
 "cells": [
  {
   "cell_type": "markdown",
   "metadata": {},
   "source": [
    "## CLASE DE APUNTES"
   ]
  },
  {
   "cell_type": "code",
   "execution_count": 2,
   "metadata": {},
   "outputs": [],
   "source": [
    "import numpy as np\n",
    "import pandas as ps"
   ]
  },
  {
   "cell_type": "code",
   "execution_count": null,
   "metadata": {},
   "outputs": [],
   "source": [
    "np.random.randint(10,100,50)"
   ]
  },
  {
   "cell_type": "code",
   "execution_count": null,
   "metadata": {},
   "outputs": [],
   "source": [
    "np.random.randint(10,100,(5,5))"
   ]
  },
  {
   "cell_type": "code",
   "execution_count": 2,
   "metadata": {},
   "outputs": [
    {
     "name": "stdout",
     "output_type": "stream",
     "text": [
      "[ 0  1  2  3  4  5  6  7  8  9 10]\n",
      "[3 4 5 6 7]\n",
      "[ 0  1  2 88 88 88 88 88  8  9 10]\n"
     ]
    }
   ],
   "source": [
    "arr=np.arange(0,11)\n",
    "print(arr)\n",
    "arr2=arr[3:8]\n",
    "print(arr2)\n",
    "arr2[:]=88\n",
    "print(arr)"
   ]
  },
  {
   "cell_type": "code",
   "execution_count": 4,
   "metadata": {},
   "outputs": [
    {
     "name": "stdout",
     "output_type": "stream",
     "text": [
      "[ 0  1  2 88 88 88 88 88  8  9 10]\n",
      "[88 88 88 88 88]\n"
     ]
    }
   ],
   "source": [
    "arr2=arr.copy()[3:8]\n",
    "print(arr)\n",
    "print(arr2)"
   ]
  },
  {
   "cell_type": "code",
   "execution_count": 11,
   "metadata": {},
   "outputs": [
    {
     "name": "stdout",
     "output_type": "stream",
     "text": [
      "[[28 13 15 28]\n",
      " [ 9  9  9 17]\n",
      " [27 23 13  6]\n",
      " [12 25  3 25]]\n",
      "28\n",
      "[[ 9  9  9 17]\n",
      " [27 23 13  6]\n",
      " [12 25  3 25]]\n",
      "[[12 25  3 25]]\n",
      "[[28 13 15 28]\n",
      " [ 9  9  9 17]]\n"
     ]
    }
   ],
   "source": [
    "matrix=np.random.randint(1,30,(4,4))\n",
    "print(matrix)\n",
    "\n",
    "print(matrix[0,0]) #para el primer\n",
    "\n",
    "#print(matrix[0])\n",
    "\n",
    "#retornar las filas 1 y 2\n",
    "\n",
    "#print(matrix[1:2])\n",
    "\n",
    "print(matrix[1:]) #suprimir filas.\n",
    "\n",
    "print(matrix[-1:]) #devuelve las 2 ultimas filas\n",
    "\n",
    "print(matrix[:-2]) #solo las 2primeras filas\n"
   ]
  },
  {
   "cell_type": "code",
   "execution_count": 17,
   "metadata": {},
   "outputs": [
    {
     "name": "stdout",
     "output_type": "stream",
     "text": [
      "[ 5 10 15 20 25 30 35 40 45 50]\n",
      "[0.2 0.4 0.6 0.8 1.  1.2 1.4 1.6 1.8 2. ]\n",
      "[ 2  4  6  8 10 12 14 16 18 20]\n"
     ]
    }
   ],
   "source": [
    "arra=np.arange(1,11)\n",
    "print(arra*5)\n",
    "print(arra/5)\n",
    "print(arra+arra)"
   ]
  },
  {
   "cell_type": "code",
   "execution_count": 22,
   "metadata": {},
   "outputs": [
    {
     "name": "stdout",
     "output_type": "stream",
     "text": [
      "[[ 0  1  2  3  4]\n",
      " [ 5  6  7  8  9]\n",
      " [10 11 12 13 14]\n",
      " [15 16 17 18 19]\n",
      " [20 21 22 23 24]]\n",
      "[ 10  35  60  85 110]\n"
     ]
    }
   ],
   "source": [
    "matriz=np.arange(25).reshape(5,5)\n",
    "print(matriz)\n",
    "\n",
    "print(matriz.sum(axis=1)) #para columnas es 0 y filas 1"
   ]
  },
  {
   "cell_type": "code",
   "execution_count": 24,
   "metadata": {},
   "outputs": [
    {
     "name": "stdout",
     "output_type": "stream",
     "text": [
      "[6 7 8 9]\n"
     ]
    }
   ],
   "source": [
    "por=np.arange(0,10)\n",
    "\n",
    "print(por[por>5])"
   ]
  }
 ],
 "metadata": {
  "kernelspec": {
   "display_name": "Python 3",
   "language": "python",
   "name": "python3"
  },
  "language_info": {
   "codemirror_mode": {
    "name": "ipython",
    "version": 3
   },
   "file_extension": ".py",
   "mimetype": "text/x-python",
   "name": "python",
   "nbconvert_exporter": "python",
   "pygments_lexer": "ipython3",
   "version": "3.10.13"
  }
 },
 "nbformat": 4,
 "nbformat_minor": 2
}
