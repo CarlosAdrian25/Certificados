{
 "cells": [
  {
   "cell_type": "markdown",
   "metadata": {},
   "source": [
    "# Tarea 2 - Numpy\n",
    "\n",
    "> lea detalladamente el ejercicio antes de responder los ejercicios\n",
    "\n",
    "# Carlos flores y Fabricio zeballos"
   ]
  },
  {
   "cell_type": "markdown",
   "metadata": {},
   "source": [
    "1. Crear los siguientes arregos de numpy\n",
    "> * Crear un array con 10 elementos \n",
    "> * Crear un array con 5 numeros decimales\n",
    "> * crear un array de 20 elementos con solo  numeros pares"
   ]
  },
  {
   "cell_type": "code",
   "execution_count": 1,
   "metadata": {},
   "outputs": [],
   "source": [
    "import numpy as np"
   ]
  },
  {
   "cell_type": "code",
   "execution_count": null,
   "metadata": {},
   "outputs": [],
   "source": [
    "array=np.arange(10)\n",
    "print(array) # primer ejercicio array de 10 elementos\n",
    "\n",
    "#array con cinco numeros decimal\n",
    "array2=np.array([1.1,2.2,3.3,4.4,5.5])\n",
    "print(array2)\n",
    "\n",
    "#array con 20 pares\n",
    "\n",
    "array3=np.arange(2,42,2)\n",
    "\n",
    "print(array3)\n",
    "\n"
   ]
  },
  {
   "cell_type": "markdown",
   "metadata": {},
   "source": [
    "2. Cual es la forma correcta de crear un Array\n",
    "> * A) np.createArray([1,2,3,4,5])\n",
    "> * B) np.object([1,2,3,4,5])\n",
    "> * C) np.array([1,2,3,4,5])"
   ]
  },
  {
   "cell_type": "code",
   "execution_count": null,
   "metadata": {},
   "outputs": [],
   "source": [
    "crear_arraycorecto=np.array([1,2,3,4,5])\n",
    "print(crear_arraycorecto)"
   ]
  },
  {
   "cell_type": "markdown",
   "metadata": {},
   "source": [
    "3. Cual es la forma correcta de saber el numero de dimensiones de un array\n",
    "> * arr.ndim()\n",
    "> * arr.dim()   \n",
    "> * arr.ndim\n",
    "> * arr.dim"
   ]
  },
  {
   "cell_type": "code",
   "execution_count": 26,
   "metadata": {},
   "outputs": [
    {
     "name": "stdout",
     "output_type": "stream",
     "text": [
      "1\n"
     ]
    }
   ],
   "source": [
    "#ejercicio 3\n",
    "op=np.array([1,2,3])\n",
    "\n",
    "print(op.ndim) # la respuesta es arr.ndim "
   ]
  },
  {
   "cell_type": "markdown",
   "metadata": {},
   "source": [
    "4. Cual es la sintaxis correcta para imprimir el primer item de un array\n",
    "> * print(arr,1)\n",
    "> * print(arr[1])\n",
    "> * print(arr[0]) "
   ]
  },
  {
   "cell_type": "code",
   "execution_count": 27,
   "metadata": {},
   "outputs": [
    {
     "name": "stdout",
     "output_type": "stream",
     "text": [
      "1\n"
     ]
    }
   ],
   "source": [
    "#el correcto es el tercero\n",
    "\n",
    "op=np.array([1,2,3])\n",
    "\n",
    "print(op[0])"
   ]
  },
  {
   "cell_type": "markdown",
   "metadata": {},
   "source": [
    "5. Cual es la sintaxis correcta para imprimir el numero 8 del vector\n",
    "arr = np.array([[1,2,3,4,5], [6,7,8,9,10]])\n",
    "> * print(arr(1,2))\n",
    "> * print(arr(7,2))\n",
    "> * print(arr(3,0))"
   ]
  },
  {
   "cell_type": "code",
   "execution_count": 31,
   "metadata": {},
   "outputs": [
    {
     "name": "stdout",
     "output_type": "stream",
     "text": [
      "8\n"
     ]
    }
   ],
   "source": [
    "#la correcta es el 1\n",
    "\n",
    "arr = np.array([[1,2,3,4,5], [6,7,8,9,10]])\n",
    "print(arr[1,2]) #seria el uno pero hay una falla que tiene que ser con [] y no con ()"
   ]
  },
  {
   "cell_type": "markdown",
   "metadata": {},
   "source": [
    "6. Cual es la sintaxis correcta para imprimir [3, 4, 5] del array \n",
    "arr = np.array([1,2,3,4,5,6,7])\n",
    "> * print(arr[3:6])\n",
    "> * print(arr[2:5])\n",
    "> * print(arr[2:6])\n",
    "> * print(arr[2:4])"
   ]
  },
  {
   "cell_type": "code",
   "execution_count": 33,
   "metadata": {},
   "outputs": [
    {
     "name": "stdout",
     "output_type": "stream",
     "text": [
      "[3 4 5]\n"
     ]
    }
   ],
   "source": [
    "arr = np.array([1,2,3,4,5,6,7])\n",
    "\n",
    "print(arr[2:5]) # la correcta es la dos"
   ]
  },
  {
   "cell_type": "markdown",
   "metadata": {},
   "source": [
    "7. Crear un vector con valores dentro del rango 10 a 49"
   ]
  },
  {
   "cell_type": "code",
   "execution_count": 35,
   "metadata": {},
   "outputs": [
    {
     "name": "stdout",
     "output_type": "stream",
     "text": [
      "[10 11 12 13 14 15 16 17 18 19 20 21 22 23 24 25 26 27 28 29 30 31 32 33\n",
      " 34 35 36 37 38 39 40 41 42 43 44 45 46 47 48 49]\n"
     ]
    }
   ],
   "source": [
    "vector=np.arange(10,50)\n",
    "print(vector)"
   ]
  },
  {
   "cell_type": "markdown",
   "metadata": {},
   "source": [
    "8. Invertir el vector creado en la pregunta anterior"
   ]
  },
  {
   "cell_type": "code",
   "execution_count": 36,
   "metadata": {},
   "outputs": [
    {
     "name": "stdout",
     "output_type": "stream",
     "text": [
      "[49 48 47 46 45 44 43 42 41 40 39 38 37 36 35 34 33 32 31 30 29 28 27 26\n",
      " 25 24 23 22 21 20 19 18 17 16 15 14 13 12 11 10]\n"
     ]
    }
   ],
   "source": [
    "vector=np.arange(10,50)\n",
    "print(vector[::-1])"
   ]
  },
  {
   "cell_type": "markdown",
   "metadata": {},
   "source": [
    "\n",
    "9. Crear una matriz 3x3 con valores de 0 a 8"
   ]
  },
  {
   "cell_type": "code",
   "execution_count": 37,
   "metadata": {},
   "outputs": [
    {
     "name": "stdout",
     "output_type": "stream",
     "text": [
      "[[0 1 2]\n",
      " [3 4 5]\n",
      " [6 7 8]]\n"
     ]
    }
   ],
   "source": [
    "matriz=np.arange(9)\n",
    "matriz3x3=matriz.reshape(3,3)\n",
    "\n",
    "print(matriz3x3)"
   ]
  },
  {
   "cell_type": "markdown",
   "metadata": {},
   "source": [
    "10. Crear una matriz identidad de 6x6"
   ]
  },
  {
   "cell_type": "code",
   "execution_count": 38,
   "metadata": {},
   "outputs": [
    {
     "name": "stdout",
     "output_type": "stream",
     "text": [
      "[[1. 0. 0. 0. 0. 0.]\n",
      " [0. 1. 0. 0. 0. 0.]\n",
      " [0. 0. 1. 0. 0. 0.]\n",
      " [0. 0. 0. 1. 0. 0.]\n",
      " [0. 0. 0. 0. 1. 0.]\n",
      " [0. 0. 0. 0. 0. 1.]]\n"
     ]
    }
   ],
   "source": [
    "matriz_identidad=np.identity(6)\n",
    "print(matriz_identidad)"
   ]
  },
  {
   "cell_type": "markdown",
   "metadata": {},
   "source": [
    "11. Encontrar los valores que no son ceros del arreglo [1,2,4,2,4,0,1,0,0,0,12,4,5,6,7,0]"
   ]
  },
  {
   "cell_type": "code",
   "execution_count": 41,
   "metadata": {},
   "outputs": [
    {
     "name": "stdout",
     "output_type": "stream",
     "text": [
      "[ 1  2  4  2  4  1 12  4  5  6  7]\n"
     ]
    }
   ],
   "source": [
    "arreglo=np.array([1,2,4,2,4,0,1,0,0,0,12,4,5,6,7,0])\n",
    "\n",
    "indices_no_ceros=np.nonzero(arreglo)\n",
    "\n",
    "result=arreglo[indices_no_ceros]\n",
    "print(result)"
   ]
  },
  {
   "cell_type": "markdown",
   "metadata": {},
   "source": [
    "12. Crear una matriz con valores al azar con forma 3x3x3"
   ]
  },
  {
   "cell_type": "code",
   "execution_count": 42,
   "metadata": {},
   "outputs": [
    {
     "name": "stdout",
     "output_type": "stream",
     "text": [
      "[[[0.85427002 0.57056919 0.76389071]\n",
      "  [0.86997445 0.9220805  0.49375965]\n",
      "  [0.47365694 0.27072191 0.27838556]]\n",
      "\n",
      " [[0.37977745 0.53067383 0.21045482]\n",
      "  [0.66416724 0.95225762 0.53175433]\n",
      "  [0.96399683 0.05009977 0.14767035]]\n",
      "\n",
      " [[0.84420952 0.89698803 0.55828407]\n",
      "  [0.79739325 0.50550178 0.91367124]\n",
      "  [0.25577323 0.11172642 0.76982358]]]\n"
     ]
    }
   ],
   "source": [
    "matriz_aleatorio=np.random.rand(3,3,3)\n",
    "print(matriz_aleatorio)"
   ]
  },
  {
   "cell_type": "markdown",
   "metadata": {},
   "source": [
    "13. Crear una matriz de 10x10 con 1's en los bordes y cualquier valor en el interior(investigar)"
   ]
  },
  {
   "cell_type": "code",
   "execution_count": null,
   "metadata": {},
   "outputs": [],
   "source": [
    "matriz= np.random.rand(10,10)\n",
    "\n",
    "matriz[0,:]=1\n",
    "matriz[-1,:]=1\n",
    "matriz[:,0]=1\n",
    "matriz[:,-1]=1\n",
    "\n",
    "print(matriz)"
   ]
  },
  {
   "cell_type": "markdown",
   "metadata": {},
   "source": [
    "14. Crear una matriz de 5x5 con valores en los renglones que vayan de 0 a 4(investigar)"
   ]
  },
  {
   "cell_type": "code",
   "execution_count": null,
   "metadata": {},
   "outputs": [],
   "source": [
    "matriz=np.tile(np.arange(5),(5,1))\n",
    "print(matriz)"
   ]
  },
  {
   "cell_type": "markdown",
   "metadata": {},
   "source": [
    "15. Crear dos arreglos al azar(valores aleatorios) A y B, verificar si son iguales"
   ]
  },
  {
   "cell_type": "code",
   "execution_count": 45,
   "metadata": {},
   "outputs": [
    {
     "name": "stdout",
     "output_type": "stream",
     "text": [
      "False\n"
     ]
    }
   ],
   "source": [
    "a=np.random.rand(10)\n",
    "b=np.random.rand(10)\n",
    "\n",
    "iguales = np.array_equal(a,b)\n",
    "\n",
    "print(iguales)"
   ]
  },
  {
   "cell_type": "markdown",
   "metadata": {},
   "source": [
    "16. Crear una matrices 10x10 mostrar las siguiente:\n",
    "> * mostrar las filas 5 en adelante\n",
    "> * mostrar solo las tres primeras filas\n",
    "> * mostrar solo las filas 3 a la 7 "
   ]
  },
  {
   "cell_type": "markdown",
   "metadata": {},
   "source": [
    "17. Crear una matrices 10x10 con valores aleatorios enteros y calcular la suma de valores siguiente:\n",
    "> * Calcular la suma de todos valores que sean mayores a 25\n",
    "> * Calcular la suma de los valores por filas que sean mayores a 10 y menores a 25\n",
    "> * Calcular la suma de los valores por columnas que sean mayores a 50 y menores a 75"
   ]
  },
  {
   "cell_type": "markdown",
   "metadata": {},
   "source": []
  }
 ],
 "metadata": {
  "kernelspec": {
   "display_name": "Python 3",
   "language": "python",
   "name": "python3"
  },
  "language_info": {
   "codemirror_mode": {
    "name": "ipython",
    "version": 3
   },
   "file_extension": ".py",
   "mimetype": "text/x-python",
   "name": "python",
   "nbconvert_exporter": "python",
   "pygments_lexer": "ipython3",
   "version": "3.10.13"
  }
 },
 "nbformat": 4,
 "nbformat_minor": 2
}
