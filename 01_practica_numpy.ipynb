{
 "cells": [
  {
   "cell_type": "markdown",
   "metadata": {},
   "source": [
    "# Tarea 2 - Numpy\n",
    "\n",
    "> lea detalladamente el ejercicio antes de responder los ejercicios"
   ]
  },
  {
   "cell_type": "markdown",
   "metadata": {},
   "source": [
    "1. Crear los siguientes arregos de numpy\n",
    "> * Crear un array con 10 elementos \n",
    "> * Crear un array con 5 numeros decimales\n",
    "> * crear un array de 20 elementos con solo  numeros pares"
   ]
  },
  {
   "cell_type": "code",
   "execution_count": null,
   "metadata": {},
   "outputs": [],
   "source": []
  },
  {
   "cell_type": "markdown",
   "metadata": {},
   "source": [
    "2. Cual es la forma correcta de crear un Array\n",
    "> * A) np.createArray([1,2,3,4,5])\n",
    "> * B) np.object([1,2,3,4,5])\n",
    "> * C) np.array([1,2,3,4,5])"
   ]
  },
  {
   "cell_type": "code",
   "execution_count": null,
   "metadata": {},
   "outputs": [],
   "source": []
  },
  {
   "cell_type": "markdown",
   "metadata": {},
   "source": [
    "3. Cual es la forma correcta de saber el numero de dimensiones de un array\n",
    "> * arr.ndim()\n",
    "> * arr.dim()   \n",
    "> * arr.ndim\n",
    "> * arr.dim"
   ]
  },
  {
   "cell_type": "code",
   "execution_count": null,
   "metadata": {},
   "outputs": [],
   "source": []
  },
  {
   "cell_type": "markdown",
   "metadata": {},
   "source": [
    "4. Cual es la sintaxis correcta para imprimir el primer item de un array\n",
    "> * print(arr,1)\n",
    "> * print(arr[1])\n",
    "> * print(arr[0]) "
   ]
  },
  {
   "cell_type": "code",
   "execution_count": null,
   "metadata": {},
   "outputs": [],
   "source": []
  },
  {
   "cell_type": "markdown",
   "metadata": {},
   "source": [
    "5. Cual es la sintaxis correcta para imprimir el numero 8 del vector\n",
    "arr = np.array([[1,2,3,4,5], [6,7,8,9,10]])\n",
    "> * print(arr(1,2))\n",
    "> * print(arr(7,2))\n",
    "> * print(arr(3,0))"
   ]
  },
  {
   "cell_type": "code",
   "execution_count": null,
   "metadata": {},
   "outputs": [],
   "source": []
  },
  {
   "cell_type": "markdown",
   "metadata": {},
   "source": [
    "6. Cual es la sintaxis correcta para imprimir [3, 4, 5] del array \n",
    "arr = np.array([1,2,3,4,5,6,7])\n",
    "> * print(arr[3:6])\n",
    "> * print(arr[2:5])\n",
    "> * print(arr[2:6])\n",
    "> * print(arr[2:4])"
   ]
  },
  {
   "cell_type": "code",
   "execution_count": null,
   "metadata": {},
   "outputs": [],
   "source": []
  },
  {
   "cell_type": "markdown",
   "metadata": {},
   "source": [
    "7. Crear un vector con valores dentro del rango 10 a 49"
   ]
  },
  {
   "cell_type": "code",
   "execution_count": null,
   "metadata": {},
   "outputs": [],
   "source": []
  },
  {
   "cell_type": "markdown",
   "metadata": {},
   "source": [
    "8. Invertir el vector creado en la pregunta anterior"
   ]
  },
  {
   "cell_type": "code",
   "execution_count": null,
   "metadata": {},
   "outputs": [],
   "source": []
  },
  {
   "cell_type": "markdown",
   "metadata": {},
   "source": [
    "\n",
    "9. Crear una matriz 3x3 con valores de 0 a 8"
   ]
  },
  {
   "cell_type": "code",
   "execution_count": null,
   "metadata": {},
   "outputs": [],
   "source": []
  },
  {
   "cell_type": "markdown",
   "metadata": {},
   "source": [
    "10. Crear una matriz identidad de 6x6"
   ]
  },
  {
   "cell_type": "code",
   "execution_count": null,
   "metadata": {},
   "outputs": [],
   "source": []
  },
  {
   "cell_type": "markdown",
   "metadata": {},
   "source": [
    "11. Encontrar los valores que no son ceros del arreglo [1,2,4,2,4,0,1,0,0,0,12,4,5,6,7,0]"
   ]
  },
  {
   "cell_type": "code",
   "execution_count": null,
   "metadata": {},
   "outputs": [],
   "source": []
  },
  {
   "cell_type": "markdown",
   "metadata": {},
   "source": [
    "12. Crear una matriz con valores al azar con forma 3x3x3"
   ]
  },
  {
   "cell_type": "code",
   "execution_count": null,
   "metadata": {},
   "outputs": [],
   "source": []
  },
  {
   "cell_type": "markdown",
   "metadata": {},
   "source": [
    "13. Crear una matriz de 10x10 con 1's en los bordes y cualquier valor en el interior(investigar)"
   ]
  },
  {
   "cell_type": "code",
   "execution_count": null,
   "metadata": {},
   "outputs": [],
   "source": []
  },
  {
   "cell_type": "markdown",
   "metadata": {},
   "source": [
    "14. Crear una matriz de 5x5 con valores en los renglones que vayan de 0 a 4(investigar)"
   ]
  },
  {
   "cell_type": "code",
   "execution_count": null,
   "metadata": {},
   "outputs": [],
   "source": []
  },
  {
   "cell_type": "markdown",
   "metadata": {},
   "source": [
    "15. Crear dos arreglos al azar(valores aleatorios) A y B, verificar si son iguales"
   ]
  },
  {
   "cell_type": "code",
   "execution_count": null,
   "metadata": {},
   "outputs": [],
   "source": []
  },
  {
   "cell_type": "markdown",
   "metadata": {},
   "source": [
    "16. Crear una matrices 10x10 mostrar las siguiente:\n",
    "> * mostrar las filas 5 en adelante\n",
    "> * mostrar solo las tres primeras filas\n",
    "> * mostrar solo las filas 3 a la 7 "
   ]
  },
  {
   "cell_type": "markdown",
   "metadata": {},
   "source": [
    "17. Crear una matrices 10x10 con valores aleatorios enteros y calcular la suma de valores siguiente:\n",
    "> * Calcular la suma de todos valores que sean mayores a 25\n",
    "> * Calcular la suma de los valores por filas que sean mayores a 10 y menores a 25\n",
    "> * Calcular la suma de los valores por columnas que sean mayores a 50 y menores a 75"
   ]
  },
  {
   "cell_type": "markdown",
   "metadata": {},
   "source": []
  }
 ],
 "metadata": {
  "language_info": {
   "name": "python"
  }
 },
 "nbformat": 4,
 "nbformat_minor": 2
}
